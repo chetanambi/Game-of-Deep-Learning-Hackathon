{
 "cells": [
  {
   "cell_type": "markdown",
   "metadata": {},
   "source": [
    "<div class=\"alert alert-danger\" style=\"margin: 10px\"><strong>IMPORTANT NOTE!</strong> For this hackathon, I have used __Keras__ Deep Learning framework. As of this writting I could not figure our how to generate the reproducible results using Keras. I have tried some techniques like setting the seed but it didn't work out. If anyone who is reading this knows how to do it please let me know in the comments.</div>"
   ]
  },
  {
   "cell_type": "markdown",
   "metadata": {},
   "source": [
    "### Refer this kernel for the solution\n",
    "https://www.kaggle.com/chetanambi/gameofdeeplearning "
   ]
  },
  {
   "cell_type": "markdown",
   "metadata": {},
   "source": [
    "Note that Using custom function I have moved test images into another folder as `flow_from_dataframe` requires test images in separate folder "
   ]
  },
  {
   "cell_type": "markdown",
   "metadata": {},
   "source": [
    "    Version 3 - Public Leaderboard Score 0.970072639203272\n",
    "    Version 4 - Public Leaderboard Score 0.968378700080418\n",
    "    Version 6 - Public Leaderboard Score 0.965499081609965\n",
    "    Version 7 - Public Leaderboard Score 0.967556739961624\n",
    "        Ensemble 1 - Ensemble of submisssions of Version 3, 7 & 6 - Score 0.981366649633107\n",
    "    Version 8 - Public Leaderboard Score 0.970194519950838\n",
    "        Ensemble 2 - Ensemble of submisssions of Version 8, 3, 4, 7 & 6 - Score 0.983211779195541\n",
    "    Version 9 - Public Leaderboard Score 0.974857207751877 \n",
    "        Ensemble 3 - Ensemble of submisssions of Version 9, 8, 3, 4, 7 & 6 - Score 0.984121152848053"
   ]
  },
  {
   "cell_type": "markdown",
   "metadata": {},
   "source": [
    "<div class=\"alert alert-info\" style=\"margin: 10px\"> <strong>Final Submission</strong> - Ensemble of Ensemble 1, 2 & 3 - Score 0.985072083832793 </div>"
   ]
  }
 ],
 "metadata": {
  "kernelspec": {
   "display_name": "Python 3",
   "language": "python",
   "name": "python3"
  },
  "language_info": {
   "codemirror_mode": {
    "name": "ipython",
    "version": 3
   },
   "file_extension": ".py",
   "mimetype": "text/x-python",
   "name": "python",
   "nbconvert_exporter": "python",
   "pygments_lexer": "ipython3",
   "version": "3.6.5"
  }
 },
 "nbformat": 4,
 "nbformat_minor": 1
}
